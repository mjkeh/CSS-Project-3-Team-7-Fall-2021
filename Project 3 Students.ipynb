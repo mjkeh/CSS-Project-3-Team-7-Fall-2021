{
 "cells": [
  {
   "cell_type": "markdown",
   "metadata": {},
   "source": [
    "# Computational Social Science Project #3 \n",
    "\n",
    "*Group number:* \n",
    "\n",
    "*Group members:*   \n",
    "\n",
    "*Semester:* Fall 2021"
   ]
  },
  {
   "cell_type": "code",
   "execution_count": null,
   "metadata": {},
   "outputs": [],
   "source": [
    "import pandas as pd\n",
    "import numpy as np\n",
    "pd.set_option('display.max_columns', None)\n",
    "import seaborn as sns\n",
    "import matplotlib.pyplot as plt\n",
    "%matplotlib inline\n",
    "from sklearn.preprocessing import LabelBinarizer\n",
    "\n",
    "# Make sure to import other libraries that will be necessary for training models!"
   ]
  },
  {
   "cell_type": "code",
   "execution_count": null,
   "metadata": {},
   "outputs": [],
   "source": [
    "# Inspections Data 2011 - 2013\n",
    "chicago_inspections_2011_to_2013 = pd.read_csv(\"data/Chicago Inspections 2011-2013.csv\", \n",
    "                                              low_memory=False)\n",
    "\n",
    "# Inspections Data 2014\n",
    "chicago_inspections_2014 = pd.read_csv(\"data/Chicago Inspections 2014.csv\", \n",
    "                                      low_memory=False)"
   ]
  },
  {
   "cell_type": "code",
   "execution_count": null,
   "metadata": {},
   "outputs": [],
   "source": [
    "# Look at the inspections data\n",
    "chicago_inspections_2011_to_2013.head()"
   ]
  },
  {
   "cell_type": "code",
   "execution_count": null,
   "metadata": {},
   "outputs": [],
   "source": [
    "# List column names\n",
    "chicago_inspections_2011_to_2013.columns"
   ]
  },
  {
   "cell_type": "code",
   "execution_count": null,
   "metadata": {},
   "outputs": [],
   "source": [
    "# Drop column names related to geography, identification, and pass/fail flags that perfectly predict the outcome\n",
    "chicago_inspections_2011_to_2013.drop(columns = ['AKA_Name', \n",
    "                                                 'License',\n",
    "                                                'Address',\n",
    "                                                'City',\n",
    "                                                'State',\n",
    "                                                'Zip',\n",
    "                                                'Latitude',\n",
    "                                                'Longitude',\n",
    "                                                'Location',\n",
    "                                                'ID',\n",
    "                                                'LICENSE_ID',\n",
    "                                                 'LICENSE_TERM_START_DATE',\n",
    "                                                 'LICENSE_TERM_EXPIRATION_DATE',\n",
    "                                                 'LICENSE_STATUS',\n",
    "                                                'ACCOUNT_NUMBER',\n",
    "                                                'LEGAL_NAME',\n",
    "                                                'DOING_BUSINESS_AS_NAME',\n",
    "                                                'ADDRESS',\n",
    "                                                'CITY',\n",
    "                                                'STATE',\n",
    "                                                'ZIP_CODE',\n",
    "                                                'WARD',\n",
    "                                                'PRECINCT',\n",
    "                                                'LICENSE_CODE',\n",
    "                                                'BUSINESS_ACTIVITY_ID',\n",
    "                                                'BUSINESS_ACTIVITY',\n",
    "                                                'LICENSE_NUMBER',\n",
    "                                                'LATITUDE',\n",
    "                                                'LONGITUDE',\n",
    "                                                'pass_flag',\n",
    "                                                'fail_flag'],\n",
    "                                     inplace = True)\n",
    "\n",
    "chicago_inspections_2011_to_2013.set_index(['Inspection_ID', 'DBA_Name'], inplace = True)"
   ]
  },
  {
   "cell_type": "code",
   "execution_count": null,
   "metadata": {},
   "outputs": [],
   "source": [
    "# Convert the Inspection Date to a datetime format\n",
    "chicago_inspections_2011_to_2013['Inspection_Date'] = pd.to_datetime(chicago_inspections_2011_to_2013['Inspection_Date'], infer_datetime_format=True)  "
   ]
  },
  {
   "cell_type": "markdown",
   "metadata": {},
   "source": [
    "## Visualization"
   ]
  },
  {
   "cell_type": "markdown",
   "metadata": {},
   "source": [
    "What do inspections look like over time?"
   ]
  },
  {
   "cell_type": "code",
   "execution_count": null,
   "metadata": {},
   "outputs": [],
   "source": [
    "# Visualize Inspections Over Time\n",
    "chicago_inspections_2011_to_2013['Inspection_MonthYear'] = chicago_inspections_2011_to_2013['Inspection_Date'].dt.to_period('M')\n",
    "counts_by_day = chicago_inspections_2011_to_2013.groupby('Inspection_MonthYear').count().rename(columns = {'Facility_Type': 'Count'})['Count'].reset_index()\n",
    "counts_by_day.set_index([\"Inspection_MonthYear\"], inplace = True)\n",
    "counts_by_day.plot(title = \"Inspections by Month and Year\") "
   ]
  },
  {
   "cell_type": "markdown",
   "metadata": {},
   "source": [
    "What do the results look like? "
   ]
  },
  {
   "cell_type": "code",
   "execution_count": null,
   "metadata": {},
   "outputs": [],
   "source": [
    "# Inspection Results\n",
    "sns.catplot(data = chicago_inspections_2011_to_2013,\n",
    "           x = \"Results\",\n",
    "           kind = \"count\")\n",
    "\n",
    "plt.title(\"Inspection Results\")\n",
    "plt.show()"
   ]
  },
  {
   "cell_type": "markdown",
   "metadata": {},
   "source": [
    "What if we separate by facility type?"
   ]
  },
  {
   "cell_type": "code",
   "execution_count": null,
   "metadata": {},
   "outputs": [],
   "source": [
    "# Inspection Results by Facility Type (Restaurant or Not)\n",
    "sns.catplot(data = chicago_inspections_2011_to_2013,\n",
    "           x = \"Results\",\n",
    "           kind = \"count\",\n",
    "           hue = 'Facility_Type_Clean')\n",
    "\n",
    "plt.title(\"Inspection Results by Facility Type\")\n",
    "plt.show()"
   ]
  },
  {
   "cell_type": "markdown",
   "metadata": {},
   "source": [
    "## Preprocess Data"
   ]
  },
  {
   "cell_type": "code",
   "execution_count": null,
   "metadata": {},
   "outputs": [],
   "source": [
    "# Drop datetime info\n",
    "chicago_inspections_2011_to_2013 = chicago_inspections_2011_to_2013.dropna().drop(['Inspection_Date',\n",
    "                                      'minDate',\n",
    "                                      'maxDate',\n",
    "                                      'Inspection_MonthYear'],\n",
    "                                      axis = 1)"
   ]
  },
  {
   "cell_type": "code",
   "execution_count": null,
   "metadata": {},
   "outputs": [],
   "source": [
    "# Set target variable. \n",
    "y = chicago_inspections_2011_to_2013['Results']\n",
    "## Comment out the following code if you don't want to binarize the target variable\n",
    "y = y.replace({'Pass w/ Conditions': 'Pass'})\n",
    "lb_style = LabelBinarizer()\n",
    "y = lb_style.fit_transform(y)\n",
    "# Recode 0s and 1s so 1s are \"Fail\"\n",
    "y = np.where(y == 1, 0 ,1)\n",
    "\n",
    "# All other features in X\n",
    "X = chicago_inspections_2011_to_2013.drop(columns = ['Results'])\n",
    "X = pd.get_dummies(X)"
   ]
  },
  {
   "cell_type": "code",
   "execution_count": null,
   "metadata": {},
   "outputs": [],
   "source": [
    "X.head()"
   ]
  },
  {
   "cell_type": "markdown",
   "metadata": {},
   "source": [
    "## Fit Models"
   ]
  },
  {
   "cell_type": "markdown",
   "metadata": {},
   "source": [
    "### Model 1"
   ]
  },
  {
   "cell_type": "markdown",
   "metadata": {},
   "source": [
    "Be sure to do the following:\n",
    "\n",
    "1. Import the appropriate library from sklearn\n",
    "2. Set up a hyperparameter grid (check out our previous labs to see how to do this)\n",
    "3. Find the best hyperparameters, and then fit your model (using train/validation splits or cross-validation)"
   ]
  },
  {
   "cell_type": "code",
   "execution_count": null,
   "metadata": {},
   "outputs": [],
   "source": []
  },
  {
   "cell_type": "markdown",
   "metadata": {},
   "source": [
    "## Model 2"
   ]
  },
  {
   "cell_type": "code",
   "execution_count": null,
   "metadata": {},
   "outputs": [],
   "source": []
  },
  {
   "cell_type": "markdown",
   "metadata": {},
   "source": [
    "## Model 3"
   ]
  },
  {
   "cell_type": "code",
   "execution_count": null,
   "metadata": {},
   "outputs": [],
   "source": []
  },
  {
   "cell_type": "markdown",
   "metadata": {},
   "source": [
    "## Validation Metrics"
   ]
  },
  {
   "cell_type": "markdown",
   "metadata": {},
   "source": [
    "**Hint**: Try writing a for loop to use [`cross_val_score()`](https://scikit-learn.org/stable/modules/generated/sklearn.model_selection.cross_val_score.html) to check for accuracy, precision, recall and f1 across all of your models."
   ]
  },
  {
   "cell_type": "code",
   "execution_count": null,
   "metadata": {},
   "outputs": [],
   "source": []
  },
  {
   "cell_type": "markdown",
   "metadata": {},
   "source": [
    "## Policy Simulation"
   ]
  },
  {
   "cell_type": "markdown",
   "metadata": {},
   "source": [
    "### Interpretable Machine Learning"
   ]
  },
  {
   "cell_type": "markdown",
   "metadata": {},
   "source": [
    "**Hint**: Use tools like feature importance plots and coefficient plots"
   ]
  },
  {
   "cell_type": "code",
   "execution_count": null,
   "metadata": {},
   "outputs": [],
   "source": []
  },
  {
   "cell_type": "code",
   "execution_count": null,
   "metadata": {},
   "outputs": [],
   "source": []
  },
  {
   "cell_type": "markdown",
   "metadata": {},
   "source": [
    "## Prioritize Audits"
   ]
  },
  {
   "cell_type": "markdown",
   "metadata": {},
   "source": [
    "**Hint**: Look up the [`.predict()`](https://www.kite.com/python/docs/sklearn.linear_model.SGDRegressor.predict), [`.predict_proba()`](https://www.kite.com/python/docs/sklearn.linear_model.LogisticRegression.predict_proba), and [`.sample()`](https://pandas.pydata.org/pandas-docs/stable/reference/api/pandas.DataFrame.sample.html) methods. Then: \n",
    "1. Choose one of your models (or train a new simplified model or ensemble!) to predict outcomes and probabilities. \n",
    "2. Order your audits by their probability of detecting a \"Fail\" score\n",
    "3. Plot your distribution of pass/fail among the first 1000 observations in the dataset\n",
    "4. Simulate random audits on the full chicago_2011_to_2013.csv dataset by picking 1000 observations at random"
   ]
  },
  {
   "cell_type": "code",
   "execution_count": null,
   "metadata": {},
   "outputs": [],
   "source": []
  },
  {
   "cell_type": "code",
   "execution_count": null,
   "metadata": {},
   "outputs": [],
   "source": []
  },
  {
   "cell_type": "code",
   "execution_count": null,
   "metadata": {},
   "outputs": [],
   "source": []
  },
  {
   "cell_type": "markdown",
   "metadata": {},
   "source": [
    "### Predict on Data with Unseen Labels"
   ]
  },
  {
   "cell_type": "code",
   "execution_count": null,
   "metadata": {},
   "outputs": [],
   "source": [
    "# Fill in the code below with the X data you used for training\n",
    "X_test = chicago_inspections_2014[chicago_inspections_2014.columns & ....columns]"
   ]
  },
  {
   "cell_type": "code",
   "execution_count": null,
   "metadata": {},
   "outputs": [],
   "source": []
  }
 ],
 "metadata": {
  "kernelspec": {
   "display_name": "Python 3",
   "language": "python",
   "name": "python3"
  },
  "language_info": {
   "codemirror_mode": {
    "name": "ipython",
    "version": 3
   },
   "file_extension": ".py",
   "mimetype": "text/x-python",
   "name": "python",
   "nbconvert_exporter": "python",
   "pygments_lexer": "ipython3",
   "version": "3.8.11"
  }
 },
 "nbformat": 4,
 "nbformat_minor": 4
}
